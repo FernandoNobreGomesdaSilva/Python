{
 "cells": [
  {
   "cell_type": "code",
   "execution_count": 1,
   "id": "7c1ecb0a-2833-4741-aeb7-9acb522fc03f",
   "metadata": {},
   "outputs": [],
   "source": [
    "# Imports das bibliotecas\n",
    "import pandas as pd\n",
    "import requests"
   ]
  },
  {
   "cell_type": "code",
   "execution_count": 7,
   "id": "2e252bd4-45bc-4255-9419-e01b852a5693",
   "metadata": {},
   "outputs": [
    {
     "name": "stdout",
     "output_type": "stream",
     "text": [
      "Dados recebidos com sucesso!\n"
     ]
    }
   ],
   "source": [
    "# URL da API\n",
    "url = \"https://servicodados.ibge.gov.br/api/v1/localidades/estados\"\n",
    "# Fazendo a requisição GET\n",
    "resposta = requests.get(url)\n",
    "# Verificando se deu tudo certo\n",
    "if resposta.status_code == 200:\n",
    "    dados = resposta.json()\n",
    "    print(\"Dados recebidos com sucesso!\")\n",
    "else:\n",
    "    print(f\"Erro na requisição: {resposta.status_code}\")"
   ]
  },
  {
   "cell_type": "code",
   "execution_count": 9,
   "id": "ee4bb9b5-e8f9-4c02-9ace-24abc3cb477f",
   "metadata": {},
   "outputs": [],
   "source": [
    "# Criando o DataFrame\n",
    "df = pd.DataFrame(dados)"
   ]
  },
  {
   "cell_type": "code",
   "execution_count": 11,
   "id": "27087083-7682-4b43-a08b-d163d0668997",
   "metadata": {},
   "outputs": [
    {
     "data": {
      "text/html": [
       "<div>\n",
       "<style scoped>\n",
       "    .dataframe tbody tr th:only-of-type {\n",
       "        vertical-align: middle;\n",
       "    }\n",
       "\n",
       "    .dataframe tbody tr th {\n",
       "        vertical-align: top;\n",
       "    }\n",
       "\n",
       "    .dataframe thead th {\n",
       "        text-align: right;\n",
       "    }\n",
       "</style>\n",
       "<table border=\"1\" class=\"dataframe\">\n",
       "  <thead>\n",
       "    <tr style=\"text-align: right;\">\n",
       "      <th></th>\n",
       "      <th>id</th>\n",
       "      <th>sigla</th>\n",
       "      <th>nome</th>\n",
       "      <th>regiao</th>\n",
       "    </tr>\n",
       "  </thead>\n",
       "  <tbody>\n",
       "    <tr>\n",
       "      <th>0</th>\n",
       "      <td>11</td>\n",
       "      <td>RO</td>\n",
       "      <td>Rondônia</td>\n",
       "      <td>{'id': 1, 'sigla': 'N', 'nome': 'Norte'}</td>\n",
       "    </tr>\n",
       "    <tr>\n",
       "      <th>1</th>\n",
       "      <td>12</td>\n",
       "      <td>AC</td>\n",
       "      <td>Acre</td>\n",
       "      <td>{'id': 1, 'sigla': 'N', 'nome': 'Norte'}</td>\n",
       "    </tr>\n",
       "    <tr>\n",
       "      <th>2</th>\n",
       "      <td>13</td>\n",
       "      <td>AM</td>\n",
       "      <td>Amazonas</td>\n",
       "      <td>{'id': 1, 'sigla': 'N', 'nome': 'Norte'}</td>\n",
       "    </tr>\n",
       "    <tr>\n",
       "      <th>3</th>\n",
       "      <td>14</td>\n",
       "      <td>RR</td>\n",
       "      <td>Roraima</td>\n",
       "      <td>{'id': 1, 'sigla': 'N', 'nome': 'Norte'}</td>\n",
       "    </tr>\n",
       "    <tr>\n",
       "      <th>4</th>\n",
       "      <td>15</td>\n",
       "      <td>PA</td>\n",
       "      <td>Pará</td>\n",
       "      <td>{'id': 1, 'sigla': 'N', 'nome': 'Norte'}</td>\n",
       "    </tr>\n",
       "  </tbody>\n",
       "</table>\n",
       "</div>"
      ],
      "text/plain": [
       "   id sigla      nome                                    regiao\n",
       "0  11    RO  Rondônia  {'id': 1, 'sigla': 'N', 'nome': 'Norte'}\n",
       "1  12    AC      Acre  {'id': 1, 'sigla': 'N', 'nome': 'Norte'}\n",
       "2  13    AM  Amazonas  {'id': 1, 'sigla': 'N', 'nome': 'Norte'}\n",
       "3  14    RR   Roraima  {'id': 1, 'sigla': 'N', 'nome': 'Norte'}\n",
       "4  15    PA      Pará  {'id': 1, 'sigla': 'N', 'nome': 'Norte'}"
      ]
     },
     "execution_count": 11,
     "metadata": {},
     "output_type": "execute_result"
    }
   ],
   "source": [
    "# Exibindo as 5 primeiras linhas\n",
    "df.head()"
   ]
  },
  {
   "cell_type": "code",
   "execution_count": 13,
   "id": "8d280f57-6d4d-4230-ba2c-e890ea10c5eb",
   "metadata": {},
   "outputs": [
    {
     "name": "stdout",
     "output_type": "stream",
     "text": [
      "Index(['id', 'sigla', 'nome', 'regiao'], dtype='object')\n"
     ]
    }
   ],
   "source": [
    "# Verificando o nome dos titulo (colunas)\n",
    "print(df.columns)"
   ]
  },
  {
   "cell_type": "code",
   "execution_count": 15,
   "id": "95a0849f-bfdd-424d-806e-96c6d2de96d2",
   "metadata": {},
   "outputs": [
    {
     "name": "stdout",
     "output_type": "stream",
     "text": [
      "<class 'pandas.core.frame.DataFrame'>\n",
      "RangeIndex: 27 entries, 0 to 26\n",
      "Data columns (total 4 columns):\n",
      " #   Column  Non-Null Count  Dtype \n",
      "---  ------  --------------  ----- \n",
      " 0   id      27 non-null     int64 \n",
      " 1   sigla   27 non-null     object\n",
      " 2   nome    27 non-null     object\n",
      " 3   regiao  27 non-null     object\n",
      "dtypes: int64(1), object(3)\n",
      "memory usage: 996.0+ bytes\n",
      "None\n"
     ]
    }
   ],
   "source": [
    "# Verificando os tipos de dados\n",
    "print(df.info())"
   ]
  },
  {
   "cell_type": "code",
   "execution_count": 17,
   "id": "23ac00ee-2c8a-43df-a5c3-5fde79286679",
   "metadata": {},
   "outputs": [
    {
     "name": "stdout",
     "output_type": "stream",
     "text": [
      "Arquivo CSV salvo com sucesso!\n"
     ]
    }
   ],
   "source": [
    "# Salvando o DataFrame como CSV no mesmo diretorio do jupyter lab.\n",
    "df.to_csv(\"dados_Ibje_Estados.csv\", index=False)\n",
    "print(\"Arquivo CSV salvo com sucesso!\")"
   ]
  }
 ],
 "metadata": {
  "kernelspec": {
   "display_name": "Python 3 (ipykernel)",
   "language": "python",
   "name": "python3"
  },
  "language_info": {
   "codemirror_mode": {
    "name": "ipython",
    "version": 3
   },
   "file_extension": ".py",
   "mimetype": "text/x-python",
   "name": "python",
   "nbconvert_exporter": "python",
   "pygments_lexer": "ipython3",
   "version": "3.12.3"
  }
 },
 "nbformat": 4,
 "nbformat_minor": 5
}
