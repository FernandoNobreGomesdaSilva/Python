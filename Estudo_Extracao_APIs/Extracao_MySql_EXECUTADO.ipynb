{
 "cells": [
  {
   "cell_type": "code",
   "execution_count": 1,
   "id": "d3a05b8b-b831-45ba-8c87-9c3451400c74",
   "metadata": {
    "execution": {
     "iopub.execute_input": "2025-05-06T00:54:57.191205Z",
     "iopub.status.busy": "2025-05-06T00:54:57.191205Z",
     "iopub.status.idle": "2025-05-06T00:54:57.203583Z",
     "shell.execute_reply": "2025-05-06T00:54:57.203583Z"
    }
   },
   "outputs": [],
   "source": [
    "#!pip install mysql-connector-python pandas openpyxl\n",
    "#conda install -c conda-forge mysql-connector-python"
   ]
  },
  {
   "cell_type": "code",
   "execution_count": 2,
   "id": "60c5e687-edb0-4504-8241-4efb8b1ad031",
   "metadata": {
    "execution": {
     "iopub.execute_input": "2025-05-06T00:54:57.207127Z",
     "iopub.status.busy": "2025-05-06T00:54:57.207127Z",
     "iopub.status.idle": "2025-05-06T00:54:57.214274Z",
     "shell.execute_reply": "2025-05-06T00:54:57.214274Z"
    }
   },
   "outputs": [
    {
     "name": "stdout",
     "output_type": "stream",
     "text": [
      "C:\\Users\\ferna\\anaconda3\\python.exe\n"
     ]
    }
   ],
   "source": [
    "# Informa o ambiente do conda\n",
    "import sys\n",
    "print(sys.executable)"
   ]
  },
  {
   "cell_type": "code",
   "execution_count": 3,
   "id": "c4254470-8a16-4dee-9a06-ecc2108d7a19",
   "metadata": {
    "execution": {
     "iopub.execute_input": "2025-05-06T00:54:57.214274Z",
     "iopub.status.busy": "2025-05-06T00:54:57.214274Z",
     "iopub.status.idle": "2025-05-06T00:54:57.223963Z",
     "shell.execute_reply": "2025-05-06T00:54:57.223963Z"
    }
   },
   "outputs": [
    {
     "name": "stdout",
     "output_type": "stream",
     "text": [
      "Diretório atual: C:\\Users\\ferna\\Drive\\Area_de_Trabalho\\Python\\Estudo_Extracao_APIs\n"
     ]
    }
   ],
   "source": [
    "import os\n",
    "print(f\"Diretório atual: {os.getcwd()}\")"
   ]
  },
  {
   "cell_type": "code",
   "execution_count": 4,
   "id": "bd975870-3e1e-48cd-b670-f4a710d67db2",
   "metadata": {
    "execution": {
     "iopub.execute_input": "2025-05-06T00:54:57.223963Z",
     "iopub.status.busy": "2025-05-06T00:54:57.223963Z",
     "iopub.status.idle": "2025-05-06T00:54:59.443499Z",
     "shell.execute_reply": "2025-05-06T00:54:59.443499Z"
    }
   },
   "outputs": [],
   "source": [
    "# Imports\n",
    "import mysql.connector\n",
    "import pandas as pd\n",
    "from datetime import datetime\n",
    "# Suprime o aviso\n",
    "import warnings\n",
    "warnings.filterwarnings(\"ignore\", category=UserWarning)\n"
   ]
  },
  {
   "cell_type": "code",
   "execution_count": 5,
   "id": "2851b241-171e-40e6-acd2-76749b7095a6",
   "metadata": {
    "execution": {
     "iopub.execute_input": "2025-05-06T00:54:59.443499Z",
     "iopub.status.busy": "2025-05-06T00:54:59.443499Z",
     "iopub.status.idle": "2025-05-06T00:54:59.652230Z",
     "shell.execute_reply": "2025-05-06T00:54:59.652230Z"
    }
   },
   "outputs": [],
   "source": [
    "# Conexão com o banco MySQL\n",
    "conn = mysql.connector.connect(\n",
    "    host=\"localhost\",        # Apenas o nome do host\n",
    "    port=3306,               # A porta vai em outro parâmetro\n",
    "    user=\"root\",             # Nome de usuário MySQL\n",
    "    password=\"1234\",         # Senha do MySQL\n",
    "    database=\"sakila\"        # Nome do banco de dados\n",
    ")\n"
   ]
  },
  {
   "cell_type": "code",
   "execution_count": 6,
   "id": "8beee4a2-2f6f-4037-894c-7c60ff09d7a3",
   "metadata": {
    "execution": {
     "iopub.execute_input": "2025-05-06T00:54:59.652230Z",
     "iopub.status.busy": "2025-05-06T00:54:59.652230Z",
     "iopub.status.idle": "2025-05-06T00:54:59.660057Z",
     "shell.execute_reply": "2025-05-06T00:54:59.660057Z"
    }
   },
   "outputs": [],
   "source": [
    "# Query com formatações\n",
    "query = \"\"\"\n",
    "SELECT  C.first_name as nome, \n",
    "    DATE_FORMAT(create_date, '%d/%m/%Y') as data_criacao, \n",
    "    DATE_FORMAT(payment_date, '%d/%m/%Y') as data_pagmento,  \n",
    "    CONCAT('R$ ', FORMAT(amount, 2, 'de_DE')) AS valor \n",
    "    FROM PAYMENT P\n",
    "    LEFT JOIN CUSTOMER C\n",
    "    ON P.CUSTOMER_ID = C.CUSTOMER_ID\n",
    "    LEFT JOIN ACTOR A\n",
    "    ON P.CUSTOMER_ID = A.ACTOR_ID\n",
    "    ORDER BY C.CUSTOMER_ID;\n",
    "\"\"\"\n"
   ]
  },
  {
   "cell_type": "code",
   "execution_count": 7,
   "id": "8edd2bbf-7852-4fa5-89f3-ed8b4f2de6f5",
   "metadata": {
    "execution": {
     "iopub.execute_input": "2025-05-06T00:54:59.660057Z",
     "iopub.status.busy": "2025-05-06T00:54:59.660057Z",
     "iopub.status.idle": "2025-05-06T00:55:00.105715Z",
     "shell.execute_reply": "2025-05-06T00:55:00.105715Z"
    }
   },
   "outputs": [],
   "source": [
    "# Executa a query e exporta\n",
    "df = pd.read_sql(query, conn)\n",
    "conn.close()\n"
   ]
  },
  {
   "cell_type": "code",
   "execution_count": 8,
   "id": "aa4bead4-8c4c-48ca-9ac9-63f94fcca9cc",
   "metadata": {
    "execution": {
     "iopub.execute_input": "2025-05-06T00:55:00.111929Z",
     "iopub.status.busy": "2025-05-06T00:55:00.109916Z",
     "iopub.status.idle": "2025-05-06T00:55:03.540521Z",
     "shell.execute_reply": "2025-05-06T00:55:03.540521Z"
    }
   },
   "outputs": [
    {
     "name": "stdout",
     "output_type": "stream",
     "text": [
      "Exportação concluída: exportacao_pagamentos_2025-05-05.xlsx\n"
     ]
    }
   ],
   "source": [
    "# Salva em Excel com data no nome do arquivo\n",
    "arquivo = f\"exportacao_pagamentos_{datetime.now().strftime('%Y-%m-%d')}.xlsx\"\n",
    "df.to_excel(arquivo, index=False)\n",
    "print(f\"Exportação concluída: {arquivo}\")"
   ]
  },
  {
   "cell_type": "code",
   "execution_count": 9,
   "id": "1877791b-0fe5-46e5-9720-2918f114a48e",
   "metadata": {
    "execution": {
     "iopub.execute_input": "2025-05-06T00:55:03.544551Z",
     "iopub.status.busy": "2025-05-06T00:55:03.544551Z",
     "iopub.status.idle": "2025-05-06T00:55:03.549695Z",
     "shell.execute_reply": "2025-05-06T00:55:03.549695Z"
    }
   },
   "outputs": [],
   "source": [
    "# Agendador de tarefa no Windows\n",
    "#conda activate seu_ambiente pip install papermill\n"
   ]
  },
  {
   "cell_type": "code",
   "execution_count": null,
   "id": "b0979579-86ca-42ed-8ee4-fc5f036d46ae",
   "metadata": {},
   "outputs": [],
   "source": []
  }
 ],
 "metadata": {
  "kernelspec": {
   "display_name": "Python 3 (ipykernel)",
   "language": "python",
   "name": "python3"
  },
  "language_info": {
   "codemirror_mode": {
    "name": "ipython",
    "version": 3
   },
   "file_extension": ".py",
   "mimetype": "text/x-python",
   "name": "python",
   "nbconvert_exporter": "python",
   "pygments_lexer": "ipython3",
   "version": "3.12.3"
  }
 },
 "nbformat": 4,
 "nbformat_minor": 5
}
